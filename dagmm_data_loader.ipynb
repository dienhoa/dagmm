{
 "cells": [
  {
   "cell_type": "code",
   "execution_count": null,
   "metadata": {},
   "outputs": [],
   "source": [
    "# export\n",
    "import torch\n",
    "import os\n",
    "import random\n",
    "from torch.utils.data import Dataset\n",
    "from torch.utils.data import DataLoader\n",
    "from torchvision import transforms\n",
    "from torchvision.datasets import ImageFolder\n",
    "from PIL import Image\n",
    "import h5py\n",
    "import numpy as np\n",
    "import collections\n",
    "import numbers\n",
    "import math\n",
    "import pandas as pd\n",
    "from local.notebook.export import *"
   ]
  },
  {
   "cell_type": "code",
   "execution_count": null,
   "metadata": {},
   "outputs": [],
   "source": [
    "# default_exp dagmm.data_loader\n",
    "# default_cls_lvl 3"
   ]
  },
  {
   "cell_type": "code",
   "execution_count": null,
   "metadata": {},
   "outputs": [],
   "source": [
    "# export \n",
    "class KDD99Loader(object):\n",
    "    def __init__(self, data_path, mode=\"train\"):\n",
    "        self.mode=mode\n",
    "        data = np.load(data_path)\n",
    "\n",
    "        labels = data[\"kdd\"][:,-1]\n",
    "        features = data[\"kdd\"][:,:-1]\n",
    "        N, D = features.shape\n",
    "        \n",
    "        normal_data = features[labels==1]\n",
    "        normal_labels = labels[labels==1]\n",
    "\n",
    "        N_normal = normal_data.shape[0]\n",
    "\n",
    "        attack_data = features[labels==0]\n",
    "        attack_labels = labels[labels==0]\n",
    "\n",
    "        N_attack = attack_data.shape[0]\n",
    "\n",
    "        randIdx = np.arange(N_attack)\n",
    "        np.random.shuffle(randIdx)\n",
    "        N_train = N_attack // 2\n",
    "\n",
    "        self.train = attack_data[randIdx[:N_train]]\n",
    "        self.train_labels = attack_labels[randIdx[:N_train]]\n",
    "\n",
    "        self.test = attack_data[randIdx[N_train:]]\n",
    "        self.test_labels = attack_labels[randIdx[N_train:]]\n",
    "\n",
    "        self.test = np.concatenate((self.test, normal_data),axis=0)\n",
    "        self.test_labels = np.concatenate((self.test_labels, normal_labels),axis=0)\n",
    "\n",
    "\n",
    "    def __len__(self):\n",
    "        \"\"\"\n",
    "        Number of images in the object dataset.\n",
    "        \"\"\"\n",
    "        if self.mode == \"train\":\n",
    "            return self.train.shape[0]\n",
    "        else:\n",
    "            return self.test.shape[0]\n",
    "\n",
    "\n",
    "    def __getitem__(self, index):\n",
    "        if self.mode == \"train\":\n",
    "            return np.float32(self.train[index]), np.float32(self.train_labels[index])\n",
    "        else:\n",
    "            return np.float32(self.test[index]), np.float32(self.test_labels[index])"
   ]
  },
  {
   "cell_type": "code",
   "execution_count": 4,
   "metadata": {},
   "outputs": [],
   "source": [
    "# export\n",
    "def get_loader(data_path, batch_size, mode='train'):\n",
    "    \"\"\"Build and return data loader.\"\"\"\n",
    "\n",
    "    dataset = KDD99Loader(data_path, mode)\n",
    "\n",
    "    shuffle = False\n",
    "    if mode == 'train':\n",
    "        shuffle = True\n",
    "\n",
    "    data_loader = DataLoader(dataset=dataset,\n",
    "                             batch_size=batch_size,\n",
    "                             shuffle=shuffle)\n",
    "    return data_loader"
   ]
  },
  {
   "cell_type": "code",
   "execution_count": 9,
   "metadata": {},
   "outputs": [
    {
     "name": "stdout",
     "output_type": "stream",
     "text": [
      "Converted KDDCup99 DAGMM.ipynb.\n",
      "Converted dagmm_data_loader.ipynb.\n",
      "Converted dagmm_main.ipynb.\n",
      "Converted dagmm_model.ipynb.\n",
      "This cell doesn't have an export destination and was ignored:\n",
      " \n",
      "Converted dagmm_solver.ipynb.\n",
      "Converted dagmm_utils.ipynb.\n",
      "Converted notebook_core.ipynb.\n",
      "Converted notebook_export.ipynb.\n"
     ]
    }
   ],
   "source": [
    "# hide\n",
    "notebook2script(all_fs=True)"
   ]
  }
 ],
 "metadata": {
  "kernelspec": {
   "display_name": "Python 3",
   "language": "python",
   "name": "python3"
  },
  "language_info": {
   "codemirror_mode": {
    "name": "ipython",
    "version": 3
   },
   "file_extension": ".py",
   "mimetype": "text/x-python",
   "name": "python",
   "nbconvert_exporter": "python",
   "pygments_lexer": "ipython3",
   "version": "3.7.4"
  }
 },
 "nbformat": 4,
 "nbformat_minor": 2
}
