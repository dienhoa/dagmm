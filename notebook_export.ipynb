{
 "cells": [
  {
   "cell_type": "code",
   "execution_count": 1,
   "metadata": {},
   "outputs": [],
   "source": [
    "# export\n",
    "from local.imports import *\n",
    "from local.notebook.core import *\n",
    "import nbformat,inspect\n",
    "from nbformat.sign import NotebookNotary"
   ]
  },
  {
   "cell_type": "code",
   "execution_count": 2,
   "metadata": {},
   "outputs": [],
   "source": [
    "# default_exp notebook.export\n",
    "# default_cls_lvl 3"
   ]
  },
  {
   "cell_type": "code",
   "execution_count": 2,
   "metadata": {},
   "outputs": [],
   "source": [
    "#export\n",
    "def read_nb(fname):\n",
    "    \"Read the notebook in `fname`.\"\n",
    "    with open(Path(fname),'r') as f: return nbformat.reads(f.read(), as_version=4)"
   ]
  },
  {
   "cell_type": "code",
   "execution_count": 3,
   "metadata": {},
   "outputs": [],
   "source": [
    "test_nb = read_nb('notebook_export.ipynb')"
   ]
  },
  {
   "cell_type": "code",
   "execution_count": 7,
   "metadata": {},
   "outputs": [
    {
     "data": {
      "text/plain": [
       "4"
      ]
     },
     "execution_count": 7,
     "metadata": {},
     "output_type": "execute_result"
    }
   ],
   "source": [
    "test_nb['nbformat']"
   ]
  },
  {
   "cell_type": "code",
   "execution_count": 4,
   "metadata": {},
   "outputs": [
    {
     "data": {
      "text/plain": [
       "dict_keys(['cells', 'metadata', 'nbformat', 'nbformat_minor'])"
      ]
     },
     "execution_count": 4,
     "metadata": {},
     "output_type": "execute_result"
    }
   ],
   "source": [
    "test_nb.keys()"
   ]
  },
  {
   "cell_type": "code",
   "execution_count": 5,
   "metadata": {},
   "outputs": [
    {
     "data": {
      "text/plain": [
       "{'kernelspec': {'display_name': 'Python 3',\n",
       "  'language': 'python',\n",
       "  'name': 'python3'},\n",
       " 'language_info': {'codemirror_mode': {'name': 'ipython', 'version': 3},\n",
       "  'file_extension': '.py',\n",
       "  'mimetype': 'text/x-python',\n",
       "  'name': 'python',\n",
       "  'nbconvert_exporter': 'python',\n",
       "  'pygments_lexer': 'ipython3',\n",
       "  'version': '3.7.4'}}"
      ]
     },
     "execution_count": 5,
     "metadata": {},
     "output_type": "execute_result"
    }
   ],
   "source": [
    "test_nb['metadata']"
   ]
  },
  {
   "cell_type": "code",
   "execution_count": 7,
   "metadata": {},
   "outputs": [
    {
     "data": {
      "text/plain": [
       "'4.2'"
      ]
     },
     "execution_count": 7,
     "metadata": {},
     "output_type": "execute_result"
    }
   ],
   "source": [
    "f\"{test_nb['nbformat']}.{test_nb['nbformat_minor']}\""
   ]
  },
  {
   "cell_type": "code",
   "execution_count": 8,
   "metadata": {},
   "outputs": [
    {
     "data": {
      "text/plain": [
       "{'cell_type': 'code',\n",
       " 'execution_count': 1,\n",
       " 'metadata': {},\n",
       " 'outputs': [],\n",
       " 'source': '# export\\nfrom local.imports import *\\nfrom local.notebook.core import *\\nimport nbformat,inspect\\nfrom nbformat.sign import NotebookNotary'}"
      ]
     },
     "execution_count": 8,
     "metadata": {},
     "output_type": "execute_result"
    }
   ],
   "source": [
    "test_nb['cells'][0]"
   ]
  },
  {
   "cell_type": "code",
   "execution_count": 9,
   "metadata": {},
   "outputs": [],
   "source": [
    "# export\n",
    "def check_re(cell, pat, code_only=True):\n",
    "    \"Check if `cell` contains a line with regex `pat`\"\n",
    "    if code_only and cell['cell_type'] != 'code': return\n",
    "    if isinstance(pat, str): pat = re.compile(pat, re.IGNORECASE | re.MULTILINE)\n",
    "    return pat.search(cell['source'])"
   ]
  },
  {
   "cell_type": "code",
   "execution_count": 10,
   "metadata": {},
   "outputs": [],
   "source": [
    "cell = test_nb['cells'][0].copy()\n",
    "assert check_re(cell, '# export') is not None\n",
    "assert check_re(cell, re.compile('# export')) is not None\n",
    "assert check_re(cell, '# bla') is None\n",
    "cell['cell_type'] = 'markdown'\n",
    "assert check_re(cell, '# export') is None\n",
    "assert check_re(cell, '# export', code_only=False) is not None"
   ]
  },
  {
   "cell_type": "code",
   "execution_count": 11,
   "metadata": {},
   "outputs": [],
   "source": [
    "# export\n",
    "_re_blank_export = re.compile(r\"\"\"\n",
    "# Matches any line with #export or #exports without any module name:\n",
    "^         # beginning of line (since re.MULTILINE is passed)\n",
    "\\s*       # any number of whitespace\n",
    "\\#\\s*     # # then any number of whitespace\n",
    "exports?  # export or exports\n",
    "\\s*       # any number of whitespace\n",
    "$         # end of line (since re.MULTILINE is passed)\n",
    "\"\"\", re.IGNORECASE | re.MULTILINE | re.VERBOSE)"
   ]
  },
  {
   "cell_type": "code",
   "execution_count": 12,
   "metadata": {},
   "outputs": [],
   "source": [
    "# export\n",
    "_re_mod_export = re.compile(r\"\"\"\n",
    "# Matches any line with #export or #exports with a module name and catches it in group 1:\n",
    "^         # beginning of line (since re.MULTILINE is passed)\n",
    "\\s*       # any number of whitespace\n",
    "\\#\\s*     # # then any number of whitespace\n",
    "exports?  # export or exports\n",
    "\\s*       # any number of whitespace\n",
    "(\\S+)     # catch a group with any non-whitespace chars\n",
    "\\s*       # any number of whitespace\n",
    "$         # end of line (since re.MULTILINE is passed)\n",
    "\"\"\", re.IGNORECASE | re.MULTILINE | re.VERBOSE)"
   ]
  },
  {
   "cell_type": "code",
   "execution_count": 13,
   "metadata": {},
   "outputs": [],
   "source": [
    "# export\n",
    "def is_export(cell, default):\n",
    "    \"Check if `cell` is to be exported and returns the name of the module.\"\n",
    "    if check_re(cell, _re_blank_export):\n",
    "        if default is None:\n",
    "            print(f\"This cell doesn't have an export destination and was ignored:\\n{cell['source'][1]}\")\n",
    "        return default\n",
    "    tst = check_re(cell, _re_mod_export)\n",
    "    return os.path.sep.join(tst.groups()[0].split('.')) if tst else None"
   ]
  },
  {
   "cell_type": "code",
   "execution_count": 14,
   "metadata": {},
   "outputs": [],
   "source": [
    "cell = test_nb['cells'][0].copy()\n",
    "assert is_export(cell, 'export') == 'export'\n",
    "cell['source'] = \"# exports\" \n",
    "assert is_export(cell, 'export') == 'export'\n",
    "cell['source'] = \"# export mod\" \n",
    "assert is_export(cell, 'export') == 'mod'\n",
    "cell['source'] = \"# export mod.file\" \n",
    "assert is_export(cell, 'export') == 'mod/file'\n",
    "cell['source'] = \"# expt mod.file\"\n",
    "assert is_export(cell, 'export') is None"
   ]
  },
  {
   "cell_type": "code",
   "execution_count": 15,
   "metadata": {},
   "outputs": [],
   "source": [
    "# export\n",
    "_re_default_exp = re.compile(r\"\"\"\n",
    "# Matches any line with #default_exp with a module name and catches it in group 1:\n",
    "^            # beginning of line (since re.MULTILINE is passed)\n",
    "\\s*          # any number of whitespace\n",
    "\\#\\s*        # # then any number of whitespace\n",
    "default_exp  # export or exports\n",
    "\\s*          # any number of whitespace\n",
    "(\\S+)        # catch a group with any non-whitespace chars\n",
    "\\s*          # any number of whitespace\n",
    "$            # end of line (since re.MULTILINE is passed)\n",
    "\"\"\", re.IGNORECASE | re.MULTILINE | re.VERBOSE)"
   ]
  },
  {
   "cell_type": "code",
   "execution_count": 16,
   "metadata": {},
   "outputs": [],
   "source": [
    "# export\n",
    "def find_default_export(cells):\n",
    "    \"Find in `cells` the default export module.\"\n",
    "    for cell in cells:\n",
    "        tst = check_re(cell, _re_default_exp)\n",
    "        if tst: return tst.groups()[0]"
   ]
  },
  {
   "cell_type": "code",
   "execution_count": 17,
   "metadata": {},
   "outputs": [
    {
     "data": {
      "text/plain": [
       "'notebook.export'"
      ]
     },
     "execution_count": 17,
     "metadata": {},
     "output_type": "execute_result"
    }
   ],
   "source": [
    "find_default_export(test_nb['cells'])"
   ]
  },
  {
   "cell_type": "code",
   "execution_count": 18,
   "metadata": {},
   "outputs": [],
   "source": [
    "assert find_default_export(test_nb['cells']) == 'notebook.export'\n",
    "assert find_default_export(test_nb['cells'][2:]) is None"
   ]
  },
  {
   "cell_type": "code",
   "execution_count": 19,
   "metadata": {},
   "outputs": [],
   "source": [
    "# export\n",
    "def _create_mod_file(fname, nb_path):\n",
    "    \"Create a module file for `fname`.\"\n",
    "    fname.parent.mkdir(parents=True, exist_ok=True)\n",
    "    with open(fname, 'w') as f:\n",
    "        f.write(f\"#AUTOGENERATED! DO NOT EDIT! File to edit: dev/{nb_path.name} (unless otherwise specified).\")\n",
    "        f.write('\\n\\n__all__ = []')"
   ]
  },
  {
   "cell_type": "code",
   "execution_count": 20,
   "metadata": {},
   "outputs": [],
   "source": [
    "#export\n",
    "_re_patch_func = re.compile(r\"\"\"\n",
    "# Catches any function decorated with @patch, its name in group 1 and the patched class in group 2\n",
    "@patch       # At any place in the cell, something that begins with @patch\n",
    "\\s*def       # Any number of whitespace (including a new line probably) followed by def\n",
    "\\s+          # One whitespace or more\n",
    "([^\\(\\s]*)   # Catch a group composed of anything but whitespace or an opening parenthesis (name of the function)\n",
    "\\s*\\(        # Any number of whitespace followed by an opening parenthesis\n",
    "[^:]*        # Any number of character different of : (the name of the first arg that is type-annotated)\n",
    ":\\s*         # A column followed by any number of whitespace\n",
    "([^,\\)\\s]*)  # Catch a group composed of anything but a comma, a closing parenthesis or whitespace (name of the class)\n",
    "\\s*          # Any number of whitespace\n",
    "(?:,|\\))     # Non-catching group with either a comma or a closing parenthesis\n",
    "\"\"\", re.VERBOSE)"
   ]
  },
  {
   "cell_type": "code",
   "execution_count": 21,
   "metadata": {},
   "outputs": [],
   "source": [
    "#hide\n",
    "tst = _re_patch_func.search(\"\"\"\n",
    "@patch\n",
    "def func(obj:Class)\"\"\")\n",
    "assert tst.groups() == (\"func\", \"Class\")\n",
    "tst = _re_patch_func.search(\"\"\"\n",
    "@patch\n",
    "def func (obj:Class, a)\"\"\")\n",
    "assert tst.groups() == (\"func\", \"Class\")"
   ]
  },
  {
   "cell_type": "code",
   "execution_count": 22,
   "metadata": {},
   "outputs": [],
   "source": [
    "#export\n",
    "_re_class_func_def = re.compile(r\"\"\"\n",
    "# Catches any 0-indented function or class definition with its name in group 1\n",
    "^              # Beginning of a line (since re.MULTILINE is passed)\n",
    "(?:def|class)  # Non-catching group for def or class\n",
    "\\s+            # One whitespace or more\n",
    "([^\\(\\s]*)     # Catching group with any character except an opening parenthesis or a whitespace (name)\n",
    "\\s*            # Any number of whitespace\n",
    "(?:\\(|:)       # Non-catching group with either an opening parenthesis or a : (classes don't need ())\n",
    "\"\"\", re.MULTILINE | re.VERBOSE)"
   ]
  },
  {
   "cell_type": "code",
   "execution_count": 23,
   "metadata": {},
   "outputs": [],
   "source": [
    "#hide\n",
    "assert _re_class_func_def.search(\"class Class:\").groups() == ('Class',)\n",
    "assert _re_class_func_def.search(\"def func(a, b):\").groups() == ('func',)"
   ]
  },
  {
   "cell_type": "code",
   "execution_count": 24,
   "metadata": {},
   "outputs": [],
   "source": [
    "#export\n",
    "_re_obj_def = re.compile(r\"\"\"\n",
    "# Catches any 0-indented object definition (bla = thing) with its name in group 1\n",
    "^          # Beginning of a line (since re.MULTILINE is passed)\n",
    "([^=\\s]*)  # Catching group with any character except a whitespace or an equal sign\n",
    "\\s*=       # Any number of whitespace followed by an =\n",
    "\"\"\", re.MULTILINE | re.VERBOSE)"
   ]
  },
  {
   "cell_type": "code",
   "execution_count": 25,
   "metadata": {},
   "outputs": [],
   "source": [
    "#hide\n",
    "assert _re_obj_def.search(\"a = 1\").groups() == ('a',)\n",
    "assert _re_obj_def.search(\"a=1\").groups() == ('a',)"
   ]
  },
  {
   "cell_type": "code",
   "execution_count": 26,
   "metadata": {},
   "outputs": [],
   "source": [
    "# export\n",
    "def _not_private(n):\n",
    "    for t in n.split('.'):\n",
    "        if t.startswith('_'): return False\n",
    "    return '\\\\' not in t and '^' not in t and '[' not in t\n",
    "\n",
    "def export_names(code, func_only=False):\n",
    "    \"Find the names of the objects, functions or classes defined in `code` that are exported.\"\n",
    "    #Format monkey-patches with @patch\n",
    "    code = _re_patch_func.sub(r'def \\2.\\1() = ', code)\n",
    "    names = _re_class_func_def.findall(code)\n",
    "    if not func_only: names += _re_obj_def.findall(code)\n",
    "    return [n for n in names if _not_private(n)]"
   ]
  },
  {
   "cell_type": "code",
   "execution_count": 27,
   "metadata": {},
   "outputs": [],
   "source": [
    "assert export_names(\"def my_func(x):\\n  pass\\nclass MyClass():\") == [\"my_func\", \"MyClass\"]\n",
    "#Indented funcs are ignored (funcs inside a class)\n",
    "assert export_names(\"  def my_func(x):\\n  pass\\nclass MyClass():\") == [\"MyClass\"]\n",
    "#Private funcs are ignored\n",
    "assert export_names(\"def _my_func():\\n  pass\\nclass MyClass():\") == [\"MyClass\"]\n",
    "#trailing spaces\n",
    "assert export_names(\"def my_func ():\\n  pass\\nclass MyClass():\") == [\"my_func\", \"MyClass\"]\n",
    "#class without parenthesis\n",
    "assert export_names(\"def my_func ():\\n  pass\\nclass MyClass:\") == [\"my_func\", \"MyClass\"]\n",
    "#object and funcs\n",
    "assert export_names(\"def my_func ():\\n  pass\\ndefault_bla=[]:\") == [\"my_func\", \"default_bla\"]\n",
    "assert export_names(\"def my_func ():\\n  pass\\ndefault_bla=[]:\", func_only=True) == [\"my_func\"]\n",
    "#Private objects are ignored\n",
    "assert export_names(\"def my_func ():\\n  pass\\n_default_bla = []:\") == [\"my_func\"]\n",
    "#Objects with dots are privates if one part is private\n",
    "assert export_names(\"def my_func ():\\n  pass\\ndefault.bla = []:\") == [\"my_func\", \"default.bla\"]\n",
    "assert export_names(\"def my_func ():\\n  pass\\ndefault._bla = []:\") == [\"my_func\"]\n",
    "#Monkey-path with @patch are properly renamed\n",
    "assert export_names(\"@patch\\ndef my_func(x:Class):\\n  pass\") == [\"Class.my_func\"]\n",
    "assert export_names(\"@patch\\ndef my_func(x:Class):\\n  pass\", func_only=True) == [\"Class.my_func\"]\n",
    "assert export_names(\"some code\\n@patch\\ndef my_func(x:Class, y):\\n  pass\") == [\"Class.my_func\"]"
   ]
  },
  {
   "cell_type": "code",
   "execution_count": 28,
   "metadata": {},
   "outputs": [],
   "source": [
    "#export\n",
    "_re_all_def   = re.compile(r\"\"\"\n",
    "# Catches a cell with defines \\_all\\_ = [\\*\\*] and get that \\*\\* in group 1\n",
    "^_all_   #  Beginning of line (since re.MULTILINE is passed)\n",
    "\\s*=\\s*  #  Any number of whitespace, =, any number of whitespace\n",
    "\\[       #  Opening [\n",
    "([^\\n\\]]*) #  Catching group with anything except a ] or newline\n",
    "\\]       #  Closing ]\n",
    "\"\"\", re.MULTILINE | re.VERBOSE)\n",
    "\n",
    "#Same with __all__\n",
    "_re__all__def = re.compile(r'^__all__\\s*=\\s*\\[([^\\]]*)\\]', re.MULTILINE)"
   ]
  },
  {
   "cell_type": "code",
   "execution_count": 29,
   "metadata": {},
   "outputs": [],
   "source": [
    "# export\n",
    "def extra_add(code):\n",
    "    \"Catch adds to `__all__` required by a cell with `_all_=`\"\n",
    "    if _re_all_def.search(code):\n",
    "        names = _re_all_def.search(code).groups()[0]\n",
    "        names = re.sub('\\s*,\\s*', ',', names)\n",
    "        names = names.replace('\"', \"'\")\n",
    "        code = _re_all_def.sub('', code)\n",
    "        code = re.sub(r'([^\\n]|^)\\n*$', r'\\1', code)\n",
    "        return names.split(','),code\n",
    "    return [],code"
   ]
  },
  {
   "cell_type": "code",
   "execution_count": 30,
   "metadata": {},
   "outputs": [],
   "source": [
    "assert extra_add('_all_ = [\"func\", \"func1\", \"func2\"]') == ([\"'func'\", \"'func1'\", \"'func2'\"],'')\n",
    "assert extra_add('_all_ = [\"func\",   \"func1\" , \"func2\"]') ==  ([\"'func'\", \"'func1'\", \"'func2'\"],'')\n",
    "assert extra_add(\"_all_ = ['func','func1', 'func2']\\n\") ==  ([\"'func'\", \"'func1'\", \"'func2'\"],'')\n",
    "assert extra_add('code\\n\\n_all_ = [\"func\", \"func1\", \"func2\"]') == ([\"'func'\", \"'func1'\", \"'func2'\"],'code')"
   ]
  },
  {
   "cell_type": "code",
   "execution_count": 31,
   "metadata": {},
   "outputs": [],
   "source": [
    "#export\n",
    "def _add2add(fname, names, line_width=120):\n",
    "    if len(names) == 0: return\n",
    "    with open(fname, 'r') as f: text = f.read()\n",
    "    tw = TextWrapper(width=120, initial_indent='', subsequent_indent=' '*11, break_long_words=False)\n",
    "    re_all = _re__all__def.search(text)\n",
    "    start,end = re_all.start(),re_all.end()\n",
    "    text_all = tw.wrap(f\"{text[start:end-1]}{'' if text[end-2]=='[' else ', '}{', '.join(names)}]\")\n",
    "    with open(fname, 'w') as f: f.write(text[:start] + '\\n'.join(text_all) + text[end:])"
   ]
  },
  {
   "cell_type": "code",
   "execution_count": 32,
   "metadata": {},
   "outputs": [],
   "source": [
    "fname = 'test_add.txt'\n",
    "with open(fname, 'w') as f: f.write(\"Bla\\n__all__ = [my_file, MyClas]\\nBli\")\n",
    "_add2add(fname, ['new_function'])\n",
    "with open(fname, 'r') as f: \n",
    "    assert f.read() == \"Bla\\n__all__ = [my_file, MyClas, new_function]\\nBli\"\n",
    "_add2add(fname, [f'new_function{i}' for i in range(10)])\n",
    "with open(fname, 'r') as f: \n",
    "    assert f.read() == \"\"\"Bla\n",
    "__all__ = [my_file, MyClas, new_function, new_function0, new_function1, new_function2, new_function3, new_function4,\n",
    "           new_function5, new_function6, new_function7, new_function8, new_function9]\n",
    "Bli\"\"\"\n",
    "os.remove(fname)"
   ]
  },
  {
   "cell_type": "code",
   "execution_count": 33,
   "metadata": {},
   "outputs": [],
   "source": [
    "# export\n",
    "def _relative_import(name, fname):\n",
    "    mods = name.split('.')\n",
    "    splits = str(fname).split(os.path.sep)\n",
    "    if mods[0] not in splits: return name\n",
    "    splits = splits[splits.index(mods[0]):]\n",
    "    while len(mods)>0 and splits[0] == mods[0]: splits,mods = splits[1:],mods[1:]\n",
    "    return '.' * (len(splits)) + '.'.join(mods)"
   ]
  },
  {
   "cell_type": "code",
   "execution_count": 34,
   "metadata": {},
   "outputs": [],
   "source": [
    "assert _relative_import('local.core', Path('local')/'data.py') == '.core'\n",
    "assert _relative_import('local.core', Path('local')/'vision'/'data.py') == '..core'\n",
    "assert _relative_import('local.vision.transform', Path('local')/'vision'/'data.py') == '.transform'\n",
    "assert _relative_import('local.notebook.core', Path('local')/'data'/'external.py') == '..notebook.core'\n",
    "assert _relative_import('local.vision', Path('local')/'vision'/'learner.py') == '.'"
   ]
  },
  {
   "cell_type": "code",
   "execution_count": 35,
   "metadata": {},
   "outputs": [],
   "source": [
    "#export\n",
    "#Catches any from local.bla import something and catches local.bla in group 1, the imported thing(s) in group 2.\n",
    "_re_import = re.compile(r'^(\\s*)from (local.\\S*) import (.*)$')"
   ]
  },
  {
   "cell_type": "code",
   "execution_count": 36,
   "metadata": {},
   "outputs": [],
   "source": [
    "# export\n",
    "def _deal_import(code_lines, fname):\n",
    "    pat = re.compile(r'from (local.\\S*) import (\\S*)$')\n",
    "    lines = []\n",
    "    def _replace(m):\n",
    "        sp,mod,obj = m.groups()\n",
    "        return f\"{sp}from {_relative_import(mod, fname)} import {obj}\"\n",
    "    for line in code_lines:\n",
    "        line = re.sub('_'+'file_', '__'+'file__', line) #Need to break _file_ or that line will be treated\n",
    "        lines.append(_re_import.sub(_replace,line))\n",
    "    return lines"
   ]
  },
  {
   "cell_type": "code",
   "execution_count": 37,
   "metadata": {},
   "outputs": [],
   "source": [
    "#hide\n",
    "lines = [\"from local.core import *\", \"nothing to see\", \"  from local.vision import bla1, bla2\", \"from local.vision import models\"]\n",
    "assert _deal_import(lines, Path('local')/'data.py') == [\n",
    "    \"from .core import *\", \"nothing to see\", \"  from .vision import bla1, bla2\", \"from .vision import models\"\n",
    "]"
   ]
  },
  {
   "cell_type": "code",
   "execution_count": 38,
   "metadata": {},
   "outputs": [],
   "source": [
    "#hide\n",
    "#Tricking jupyter notebook to have a __file__ attribute. All _file_ will be replaced by __file__\n",
    "_file_ = Path('local').absolute()/'notebook'/'export.py'"
   ]
  },
  {
   "cell_type": "code",
   "execution_count": 39,
   "metadata": {},
   "outputs": [],
   "source": [
    "#export\n",
    "def _get_index():\n",
    "    if not (Path(_file_).parent/'index.txt').exists(): return {}\n",
    "    return json.load(open(Path(_file_).parent/'index.txt', 'r'))\n",
    "\n",
    "def _save_index(index):\n",
    "    fname = Path(_file_).parent/'index.txt'\n",
    "    fname.parent.mkdir(parents=True, exist_ok=True)\n",
    "    json.dump(index, open(fname, 'w'), indent=2)\n",
    "\n",
    "def _reset_index():\n",
    "    if (Path(_file_).parent/'index.txt').exists():\n",
    "        os.remove(Path(_file_).parent/'index.txt')"
   ]
  },
  {
   "cell_type": "code",
   "execution_count": 40,
   "metadata": {},
   "outputs": [],
   "source": [
    "#hide\n",
    "ind,ind_bak = Path(_file_).parent/'index.txt',Path(_file_).parent/'index.bak'\n",
    "if ind.exists(): shutil.move(ind, ind_bak)\n",
    "assert _get_index() == {}\n",
    "_save_index({'foo':'bar'})\n",
    "assert _get_index() == {'foo':'bar'}\n",
    "if ind_bak.exists(): shutil.move(ind_bak, ind)"
   ]
  },
  {
   "cell_type": "code",
   "execution_count": 41,
   "metadata": {},
   "outputs": [],
   "source": [
    "#export\n",
    "def _notebook2script(fname, silent=False, to_pkl=False):\n",
    "    \"Finds cells starting with `#export` and puts them into a new module\"\n",
    "    if os.environ.get('IN_TEST',0): return  # don't export if running tests\n",
    "    fname = Path(fname)\n",
    "    nb = read_nb(fname)\n",
    "    default = find_default_export(nb['cells'])\n",
    "    if default is not None:\n",
    "        default = os.path.sep.join(default.split('.'))\n",
    "        if not to_pkl: _create_mod_file(Path.cwd()/'local'/f'{default}.py', fname)\n",
    "    index = _get_index()\n",
    "    exports = [is_export(c, default) for c in nb['cells']]\n",
    "    cells = [(i,c,e) for i,(c,e) in enumerate(zip(nb['cells'],exports)) if e is not None]\n",
    "    for (i,c,e) in cells:\n",
    "        fname_out = Path.cwd()/'local'/f'{e}.py'\n",
    "        orig = ('#C' if e==default else f'#Comes from {fname.name}, c') + 'ell\\n'\n",
    "        code = '\\n\\n' + orig + '\\n'.join(_deal_import(c['source'].split('\\n')[1:], fname_out))\n",
    "        # remove trailing spaces\n",
    "        names = export_names(code)\n",
    "        extra,code = extra_add(code)\n",
    "        if not to_pkl: _add2add(fname_out, [f\"'{f}'\" for f in names if '.' not in f] + extra)\n",
    "        index.update({f: fname.name for f in names})\n",
    "        code = re.sub(r' +$', '', code, flags=re.MULTILINE)\n",
    "        if code != '\\n\\n' + orig[:-1]:\n",
    "            if to_pkl: _update_pkl(fname_out, (i, fname, code))\n",
    "            else:\n",
    "                with open(fname_out, 'a') as f: f.write(code)\n",
    "    _save_index(index)\n",
    "    if not silent: print(f\"Converted {fname}.\")"
   ]
  },
  {
   "cell_type": "code",
   "execution_count": 42,
   "metadata": {},
   "outputs": [],
   "source": [
    "#export \n",
    "def _get_sorted_files(all_fs: Union[bool,str], up_to=None):\n",
    "    \"Return the list of files corresponding to `g` in the current dir.\"\n",
    "    if (all_fs==True): ret = glob.glob('*.ipynb') # Checks both that is bool type and that is True\n",
    "    else: ret = glob.glob(all_fs) if isinstance(g,str) else []\n",
    "    if len(ret)==0: print('WARNING: No files found')\n",
    "    ret = [f for f in ret if not f.startswith('_')]\n",
    "    if up_to is not None: ret = [f for f in ret if str(f)<=str(up_to)]\n",
    "    return sorted(ret)"
   ]
  },
  {
   "cell_type": "code",
   "execution_count": 43,
   "metadata": {},
   "outputs": [
    {
     "name": "stdout",
     "output_type": "stream",
     "text": [
      "Converted notebook_core.ipynb.\n"
     ]
    }
   ],
   "source": [
    "_notebook2script('notebook_core.ipynb')"
   ]
  },
  {
   "cell_type": "code",
   "execution_count": 44,
   "metadata": {},
   "outputs": [],
   "source": [
    "#export \n",
    "def notebook2script(fname=None, all_fs=None, up_to=None, silent=False, to_pkl=False):\n",
    "    \"Convert `fname` or all the notebook satisfying `all_fs`.\"\n",
    "    # initial checks\n",
    "    if os.environ.get('IN_TEST',0): return  # don't export if running tests\n",
    "    assert fname or all_fs\n",
    "    if all_fs: _reset_index()\n",
    "    if (all_fs is None) and (up_to is not None): all_fs=True # Enable allFiles if upTo is present\n",
    "    fnames = _get_sorted_files(all_fs, up_to=up_to) if all_fs else [fname]\n",
    "    [_notebook2script(f, silent=silent, to_pkl=to_pkl) for f in fnames]"
   ]
  },
  {
   "cell_type": "code",
   "execution_count": 45,
   "metadata": {},
   "outputs": [],
   "source": [
    "#export \n",
    "def _get_property_name(p):\n",
    "    \"Get the name of property `p`\"\n",
    "    if hasattr(p, 'fget'):\n",
    "        return p.fget.func.__qualname__ if hasattr(p.fget, 'func') else p.fget.__qualname__\n",
    "    else: return next(iter(re.findall(r'\\'(.*)\\'', str(p)))).split('.')[-1]\n",
    "\n",
    "def get_name(obj):\n",
    "    \"Get the name of `obj`\"\n",
    "    if hasattr(obj, '__name__'):       return obj.__name__\n",
    "    elif getattr(obj, '_name', False): return obj._name\n",
    "    elif hasattr(obj,'__origin__'):    return str(obj.__origin__).split('.')[-1] #for types\n",
    "    elif type(obj)==property:          return _get_property_name(obj)\n",
    "    else:                              return str(obj).split('.')[-1]"
   ]
  },
  {
   "cell_type": "code",
   "execution_count": 46,
   "metadata": {},
   "outputs": [],
   "source": [
    "# export\n",
    "def qual_name(obj):\n",
    "    \"Get the qualified name of `obj`\"\n",
    "    if hasattr(obj,'__qualname__'): return obj.__qualname__\n",
    "    if inspect.ismethod(obj):       return f\"{get_name(obj.__self__)}.{get_name(fn)}\"\n",
    "    return get_name(obj)"
   ]
  },
  {
   "cell_type": "code",
   "execution_count": 47,
   "metadata": {},
   "outputs": [],
   "source": [
    "assert get_name(in_ipython) == 'in_ipython'\n",
    "assert get_name(DocsTestClass.test) == 'test'\n",
    "# assert get_name(Union[Tensor, float]) == 'Union'"
   ]
  },
  {
   "cell_type": "code",
   "execution_count": 48,
   "metadata": {},
   "outputs": [],
   "source": [
    "#hide\n",
    "class PropertyClass:\n",
    "    p_lambda = property(lambda x: x)\n",
    "    def some_getter(self): return 7\n",
    "    p_getter = property(some_getter)\n",
    "\n",
    "assert get_name(PropertyClass.p_lambda) == 'PropertyClass.<lambda>'\n",
    "assert get_name(PropertyClass.p_getter) == 'PropertyClass.some_getter'\n",
    "assert get_name(PropertyClass) == 'PropertyClass'"
   ]
  },
  {
   "cell_type": "code",
   "execution_count": 49,
   "metadata": {},
   "outputs": [],
   "source": [
    "# export\n",
    "def source_nb(func, is_name=None, return_all=False):\n",
    "    \"Return the name of the notebook where `func` was defined\"\n",
    "    is_name = is_name or isinstance(func, str)\n",
    "    index = _get_index()\n",
    "    name = func if is_name else qual_name(func)\n",
    "    while len(name) > 0:\n",
    "        if name in index: return (name,index[name]) if return_all else index[name]\n",
    "        name = '.'.join(name.split('.')[:-1])"
   ]
  },
  {
   "cell_type": "code",
   "execution_count": 50,
   "metadata": {},
   "outputs": [],
   "source": [
    "assert qual_name(DocsTestClass) == 'DocsTestClass'\n",
    "assert qual_name(DocsTestClass.test) == 'DocsTestClass.test'"
   ]
  },
  {
   "cell_type": "code",
   "execution_count": 51,
   "metadata": {},
   "outputs": [],
   "source": [
    "# export\n",
    "_re_default_nb = re.compile(r'File to edit: dev/(\\S+)\\s+')\n",
    "_re_cell = re.compile(r'^#Cell|^#Comes from\\s+(\\S+), cell')"
   ]
  },
  {
   "cell_type": "code",
   "execution_count": 52,
   "metadata": {},
   "outputs": [
    {
     "name": "stdout",
     "output_type": "stream",
     "text": [
      "Converted KDDCup99 DAGMM.ipynb.\n",
      "Converted dagmm_main.ipynb.\n",
      "Converted dagmm_model.ipynb.\n",
      "This cell doesn't have an export destination and was ignored:\n",
      " \n",
      "Converted dagmm_solver.ipynb.\n",
      "This cell doesn't have an export destination and was ignored:\n",
      " \n",
      "This cell doesn't have an export destination and was ignored:\n",
      " \n",
      "This cell doesn't have an export destination and was ignored:\n",
      " \n",
      "Converted dagmm_utils.ipynb.\n",
      "Converted notebook_core.ipynb.\n",
      "Converted notebook_export.ipynb.\n"
     ]
    }
   ],
   "source": [
    "#hide\n",
    "notebook2script(all_fs=True)"
   ]
  }
 ],
 "metadata": {
  "kernelspec": {
   "display_name": "Python 3",
   "language": "python",
   "name": "python3"
  },
  "language_info": {
   "codemirror_mode": {
    "name": "ipython",
    "version": 3
   },
   "file_extension": ".py",
   "mimetype": "text/x-python",
   "name": "python",
   "nbconvert_exporter": "python",
   "pygments_lexer": "ipython3",
   "version": "3.7.4"
  }
 },
 "nbformat": 4,
 "nbformat_minor": 2
}
