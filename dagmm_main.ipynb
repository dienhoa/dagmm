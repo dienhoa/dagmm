{
 "cells": [
  {
   "cell_type": "code",
   "execution_count": 1,
   "metadata": {},
   "outputs": [],
   "source": [
    "# export\n",
    "import os\n",
    "from local.dagmm.solver import Solver\n",
    "from local.dagmm.data_loader import get_loader\n",
    "from torch.backends import cudnn\n",
    "from local.dagmm.utils import *\n",
    "from local.notebook.export import *"
   ]
  },
  {
   "cell_type": "code",
   "execution_count": 2,
   "metadata": {},
   "outputs": [],
   "source": [
    "# default_exp dagmm.main\n",
    "# default_cls_lvl 3"
   ]
  },
  {
   "cell_type": "code",
   "execution_count": 3,
   "metadata": {},
   "outputs": [],
   "source": [
    "# export\n",
    "def str2bool(v):\n",
    "    return v.lower() in ('true')\n",
    "\n",
    "def main(config):\n",
    "    # For fast training\n",
    "    cudnn.benchmark = True\n",
    "\n",
    "    # Create directories if not exist\n",
    "    mkdir(config.log_path)\n",
    "    mkdir(config.model_save_path)\n",
    "\n",
    "    data_loader = get_loader(config.data_path, batch_size=config.batch_size, mode=config.mode)\n",
    "    \n",
    "    # Solver\n",
    "    solver = Solver(data_loader, vars(config))\n",
    "\n",
    "    if config.mode == 'train':\n",
    "        solver.train()\n",
    "    elif config.mode == 'test':\n",
    "        solver.test()\n",
    "\n",
    "    return solver"
   ]
  },
  {
   "cell_type": "code",
   "execution_count": 4,
   "metadata": {},
   "outputs": [
    {
     "name": "stdout",
     "output_type": "stream",
     "text": [
      "Converted KDDCup99 DAGMM.ipynb.\n",
      "Converted KDDCup99.ipynb.\n",
      "Converted dagmm_data_loader.ipynb.\n",
      "Converted dagmm_main.ipynb.\n",
      "Converted dagmm_model.ipynb.\n",
      "Converted dagmm_solver.ipynb.\n",
      "Converted dagmm_utils.ipynb.\n",
      "Converted notebook_core.ipynb.\n",
      "Converted notebook_export.ipynb.\n"
     ]
    }
   ],
   "source": [
    "# hide\n",
    "notebook2script(all_fs=True)"
   ]
  },
  {
   "cell_type": "code",
   "execution_count": null,
   "metadata": {},
   "outputs": [],
   "source": []
  }
 ],
 "metadata": {
  "kernelspec": {
   "display_name": "Python 3",
   "language": "python",
   "name": "python3"
  },
  "language_info": {
   "codemirror_mode": {
    "name": "ipython",
    "version": 3
   },
   "file_extension": ".py",
   "mimetype": "text/x-python",
   "name": "python",
   "nbconvert_exporter": "python",
   "pygments_lexer": "ipython3",
   "version": "3.6.8"
  }
 },
 "nbformat": 4,
 "nbformat_minor": 2
}
