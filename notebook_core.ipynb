{
 "cells": [
  {
   "cell_type": "code",
   "execution_count": 1,
   "metadata": {},
   "outputs": [],
   "source": [
    "#default_exp notebook.core"
   ]
  },
  {
   "cell_type": "code",
   "execution_count": 2,
   "metadata": {},
   "outputs": [],
   "source": [
    "#export\n",
    "from local.imports import *"
   ]
  },
  {
   "cell_type": "code",
   "execution_count": 3,
   "metadata": {},
   "outputs": [],
   "source": [
    "# export\n",
    "def in_ipython():\n",
    "    \"Check if the code is running in the ipython environment (jupyter including)\"\n",
    "    program_name = os.path.basename(os.getenv('_', ''))\n",
    "    if ('jupyter-notebook' in program_name or # jupyter-notebook\n",
    "        'ipython'          in program_name or # ipython\n",
    "        'JPY_PARENT_PID'   in os.environ):    # ipython-notebook\n",
    "        return True\n",
    "    else:\n",
    "        return False\n",
    "\n",
    "IN_IPYTHON = in_ipython()"
   ]
  },
  {
   "cell_type": "code",
   "execution_count": 4,
   "metadata": {},
   "outputs": [],
   "source": [
    "# export\n",
    "def in_colab():\n",
    "    \"Check if the code is running in Google Colaboratory\"\n",
    "    try:\n",
    "        from google import colab\n",
    "        return True\n",
    "    except: return False\n",
    "\n",
    "IN_COLAB = in_colab()"
   ]
  },
  {
   "cell_type": "code",
   "execution_count": 5,
   "metadata": {},
   "outputs": [],
   "source": [
    "# export\n",
    "def in_notebook():\n",
    "    \"Check if the code is running in a jupyter notebook\"\n",
    "    if in_colab(): return True\n",
    "    try:\n",
    "        shell = get_ipython().__class__.__name__\n",
    "        if shell == 'ZMQInteractiveShell': return True   # Jupyter notebook, Spyder or qtconsole\n",
    "        elif shell == 'TerminalInteractiveShell': return False  # Terminal running IPython\n",
    "        else: return False  # Other type (?)\n",
    "    except NameError: return False      # Probably standard Python interpreter\n",
    "\n",
    "IN_NOTEBOOK = in_notebook()"
   ]
  },
  {
   "cell_type": "code",
   "execution_count": 6,
   "metadata": {},
   "outputs": [],
   "source": [
    "assert IN_NOTEBOOK\n",
    "assert not IN_COLAB\n",
    "assert IN_IPYTHON"
   ]
  },
  {
   "cell_type": "code",
   "execution_count": 7,
   "metadata": {},
   "outputs": [],
   "source": [
    "#export\n",
    "class DocsTestClass:\n",
    "    def test(): pass"
   ]
  }
 ],
 "metadata": {
  "kernelspec": {
   "display_name": "Python 3",
   "language": "python",
   "name": "python3"
  },
  "language_info": {
   "codemirror_mode": {
    "name": "ipython",
    "version": 3
   },
   "file_extension": ".py",
   "mimetype": "text/x-python",
   "name": "python",
   "nbconvert_exporter": "python",
   "pygments_lexer": "ipython3",
   "version": "3.7.4"
  }
 },
 "nbformat": 4,
 "nbformat_minor": 2
}
